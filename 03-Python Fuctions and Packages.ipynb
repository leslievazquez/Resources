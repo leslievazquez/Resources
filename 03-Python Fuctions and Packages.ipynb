{
 "cells": [
  {
   "cell_type": "markdown",
   "metadata": {},
   "source": [
    "***\n",
    "# Python Functions & Packages\n",
    "***"
   ]
  },
  {
   "cell_type": "markdown",
   "metadata": {},
   "source": [
    "Without telling you, we've been using Python built-in functions without specifically calling them out. **type()** is a function, as is **print()**. What is a function? Simply, it's a piece of reusable code that solves or performs a particular task. The **type()** function tells us what data type we are dealing with. We can use Python's functions instead of writing code ourselves. Let's create a new list of employees.\n",
    "## Functions"
   ]
  },
  {
   "cell_type": "code",
   "execution_count": 1,
   "metadata": {},
   "outputs": [
    {
     "data": {
      "text/plain": [
       "50000"
      ]
     },
     "execution_count": 1,
     "metadata": {},
     "output_type": "execute_result"
    }
   ],
   "source": [
    "# Create a new list of employee salaries\n",
    "employees = [20000, 25000, 30000, 35000, 40000, 45000, 50000]\n",
    "\n",
    "# Use the Python function max() to find the maximum salary in our list\n",
    "max(employees)"
   ]
  },
  {
   "cell_type": "markdown",
   "metadata": {},
   "source": [
    "We don't need to know exactly how **max()** works, we just need to know that it does. It's a bit like a black box. We simply pass it an argument and let it do the work and produce an output. More importantly, we didn't have to write the function code, we simply called it and passed an argument.\n",
    "\n",
    "We can also assign the result of a function call to a new variable."
   ]
  },
  {
   "cell_type": "code",
   "execution_count": 2,
   "metadata": {},
   "outputs": [
    {
     "data": {
      "text/plain": [
       "50000"
      ]
     },
     "execution_count": 2,
     "metadata": {},
     "output_type": "execute_result"
    }
   ],
   "source": [
    "# Create a new variable: highest_paid\n",
    "highest_paid = max(employees)\n",
    "\n",
    "# Output: highest paid\n",
    "highest_paid"
   ]
  },
  {
   "cell_type": "markdown",
   "metadata": {},
   "source": [
    "We can now use the variable **highest_paid** elsewhere in our Python programs.\n",
    "\n",
    "Python's **round()** function takes two inputs. First the number that you want to round and second the precision point to round to, which simply means how many digits behind the decimal point you want to keep.\n",
    "\n",
    "Here is pi to 10 digits: 3.14159265358979. But we may not want it to 10 digits we may simply want it to 2."
   ]
  },
  {
   "cell_type": "code",
   "execution_count": 3,
   "metadata": {},
   "outputs": [
    {
     "data": {
      "text/plain": [
       "3.14"
      ]
     },
     "execution_count": 3,
     "metadata": {},
     "output_type": "execute_result"
    }
   ],
   "source": [
    "# Use round() to round pi to 2 decimal places\n",
    "pi = round(3.14159265358979, 2)\n",
    "\n",
    "# Print pi\n",
    "pi"
   ]
  },
  {
   "cell_type": "markdown",
   "metadata": {},
   "source": [
    "If you are not sure on how to use a function or what format it should take you can always fall-back on its documentation. To find help for the **round()** we simply type _help(round)_ or _round?_."
   ]
  },
  {
   "cell_type": "code",
   "execution_count": 4,
   "metadata": {},
   "outputs": [
    {
     "name": "stdout",
     "output_type": "stream",
     "text": [
      "Help on built-in function round in module builtins:\n",
      "\n",
      "round(...)\n",
      "    round(number[, ndigits]) -> number\n",
      "    \n",
      "    Round a number to a given precision in decimal digits (default 0 digits).\n",
      "    This returns an int when called with one argument, otherwise the\n",
      "    same type as the number. ndigits may be negative.\n",
      "\n"
     ]
    }
   ],
   "source": [
    "help(round)"
   ]
  },
  {
   "cell_type": "markdown",
   "metadata": {},
   "source": [
    "Something to remember when reading Python function documentation, when an argument is inside square brackets it means that the argument is optional. We can see this here, round(number**[, ndigits]**)"
   ]
  },
  {
   "cell_type": "code",
   "execution_count": 5,
   "metadata": {},
   "outputs": [
    {
     "data": {
      "text/plain": [
       "1.7"
      ]
     },
     "execution_count": 5,
     "metadata": {},
     "output_type": "execute_result"
    }
   ],
   "source": [
    "# Round 1.68 to 1 decimal place\n",
    "num = round(1.68, 1)\n",
    "\n",
    "# Print num\n",
    "num"
   ]
  },
  {
   "cell_type": "code",
   "execution_count": 6,
   "metadata": {},
   "outputs": [
    {
     "data": {
      "text/plain": [
       "2"
      ]
     },
     "execution_count": 6,
     "metadata": {},
     "output_type": "execute_result"
    }
   ],
   "source": [
    "# Round 1.68 with only 1 input\n",
    "num01 = round(1.68)\n",
    "\n",
    "# Print num\n",
    "num01"
   ]
  },
  {
   "cell_type": "markdown",
   "metadata": {},
   "source": [
    "Python knows that we didn't enter a second input and so automatically rounds to the closest integer. In the examples above that's 1.7 and 2.\n",
    "\n",
    "You may be thinking at this point how are you to know what functions are available. This is were your own initiative is your best resource. If you are looking to write a piece of code to perform a task there is a very strong chance that another coder has tried to do something similar. Generally, for every task that you would like to perform with Python a function exists. To find it just have a Google.\n",
    "\n",
    "Python offers lots of functions to help make your life as a data scientist easier. We have already seen several, **print(), type(), str(), int(), bool(), float()**. \n",
    "\n",
    "Let's look at some other Python built-in functions"
   ]
  },
  {
   "cell_type": "code",
   "execution_count": 7,
   "metadata": {},
   "outputs": [
    {
     "name": "stdout",
     "output_type": "stream",
     "text": [
      "[30000, 35000, 40000, 45000, 50000, 55000, 25000, 28000]\n"
     ]
    }
   ],
   "source": [
    "# Create two new lists of employees salary\n",
    "developers = [30000, 35000, 40000, 45000, 50000, 55000]\n",
    "testers = [25000, 28000]\n",
    "\n",
    "# Combine both lists\n",
    "technical_team_salary = developers + testers\n",
    "\n",
    "# Print combined lists\n",
    "print(technical_team_salary)"
   ]
  },
  {
   "cell_type": "markdown",
   "metadata": {},
   "source": [
    "As you can see from the output above the **technical_team_salary** output is unsorted. Lists in Python are unsorted by default. To resolve this, there is as you would you expect a function available, **sorted()**. Let's take a look at its documentation using **help(sorted)**."
   ]
  },
  {
   "cell_type": "code",
   "execution_count": 8,
   "metadata": {},
   "outputs": [
    {
     "name": "stdout",
     "output_type": "stream",
     "text": [
      "Help on built-in function sorted in module builtins:\n",
      "\n",
      "sorted(iterable, /, *, key=None, reverse=False)\n",
      "    Return a new list containing all items from the iterable in ascending order.\n",
      "    \n",
      "    A custom key function can be supplied to customize the sort order, and the\n",
      "    reverse flag can be set to request the result in descending order.\n",
      "\n"
     ]
    }
   ],
   "source": [
    "help(sorted)"
   ]
  },
  {
   "cell_type": "markdown",
   "metadata": {},
   "source": [
    "We can see from the documentation that sorted() takes three arguments, iterable, key and reverse. What happens if we add the reverse argument to our list?"
   ]
  },
  {
   "cell_type": "code",
   "execution_count": 9,
   "metadata": {},
   "outputs": [
    {
     "name": "stdout",
     "output_type": "stream",
     "text": [
      "[55000, 50000, 45000, 40000, 35000, 30000, 28000, 25000]\n"
     ]
    }
   ],
   "source": [
    "# List with argument reverse = True\n",
    "technical_team_salary_sorted = sorted(technical_team_salary, reverse = True)\n",
    "\n",
    "# Output new list\n",
    "print(technical_team_salary_sorted)"
   ]
  },
  {
   "cell_type": "code",
   "execution_count": 10,
   "metadata": {},
   "outputs": [
    {
     "name": "stdout",
     "output_type": "stream",
     "text": [
      "[25000, 28000, 30000, 35000, 40000, 45000, 50000, 55000]\n"
     ]
    }
   ],
   "source": [
    "# List using sorted function with no arguments\n",
    "technical_team_salary_sorted = sorted(technical_team_salary)\n",
    "\n",
    "# Output list\n",
    "print(technical_team_salary_sorted)"
   ]
  },
  {
   "cell_type": "markdown",
   "metadata": {},
   "source": [
    "Another useful built-in Python functions is **len()**, which returns the numbers of elements in a list. Take a look.|"
   ]
  },
  {
   "cell_type": "code",
   "execution_count": 11,
   "metadata": {},
   "outputs": [
    {
     "data": {
      "text/plain": [
       "8"
      ]
     },
     "execution_count": 11,
     "metadata": {},
     "output_type": "execute_result"
    }
   ],
   "source": [
    "# Use len(len) to get number of elements in a list\n",
    "len(technical_team_salary_sorted)"
   ]
  },
  {
   "cell_type": "markdown",
   "metadata": {},
   "source": [
    "## Python Objects\n",
    "Everything in Python is an object. But what is an object? In previous code samples we've created several variables that have been a mix of python data types, strings, floats and lists. Each one of these data structures are called Python objects.\n",
    "\n",
    "- A string is an object\n",
    "- A float is an object\n",
    "- A list is an object\n",
    "\n",
    "These objects have specific types which we already know, str, floats and lists and we've seen how each type holds different values.\n",
    "\n",
    "Python objects also come with methods. Methods are functions which belong to specific objects.\n",
    "\n",
    "For example:\n",
    "\n",
    "- A Python object of type str has methods such as capitalize() and replace()\n",
    "- A Python object of type float has methods such as bit_length() and conjugate()\n",
    "- A Python object of type list has methods such as index() and count()\n",
    "\n",
    "Python objects have specific methods depending on their type. You cannot apply the method capitalize() to an integer. This method belongs only to string objects.\n",
    "\n",
    "Lets look at some examples by recreating our developers salary list."
   ]
  },
  {
   "cell_type": "code",
   "execution_count": 12,
   "metadata": {},
   "outputs": [],
   "source": [
    "# Create a developers salary list\n",
    "developers = [30000, 35000, 40000, 45000, 50000, 55000]"
   ]
  },
  {
   "cell_type": "markdown",
   "metadata": {},
   "source": [
    "We know that developers is a Python object of type list."
   ]
  },
  {
   "cell_type": "code",
   "execution_count": 13,
   "metadata": {},
   "outputs": [
    {
     "data": {
      "text/plain": [
       "list"
      ]
     },
     "execution_count": 13,
     "metadata": {},
     "output_type": "execute_result"
    }
   ],
   "source": [
    "type(developers)"
   ]
  },
  {
   "cell_type": "markdown",
   "metadata": {},
   "source": [
    "We also know that lists have a method called index. Lets find the index for the element 40000."
   ]
  },
  {
   "cell_type": "code",
   "execution_count": 14,
   "metadata": {},
   "outputs": [
    {
     "data": {
      "text/plain": [
       "2"
      ]
     },
     "execution_count": 14,
     "metadata": {},
     "output_type": "execute_result"
    }
   ],
   "source": [
    "developers.index(40000)"
   ]
  },
  {
   "cell_type": "markdown",
   "metadata": {},
   "source": [
    "This method would work the same no matter what data types are inside our list such as strings, floats or other lists. What we have done is called the index() method on the developers lists. What happens if we use the count() method?"
   ]
  },
  {
   "cell_type": "code",
   "execution_count": 15,
   "metadata": {},
   "outputs": [
    {
     "data": {
      "text/plain": [
       "1"
      ]
     },
     "execution_count": 15,
     "metadata": {},
     "output_type": "execute_result"
    }
   ],
   "source": [
    "# .count() method applied to developers list\n",
    "developers.count(55000)"
   ]
  },
  {
   "cell_type": "markdown",
   "metadata": {},
   "source": [
    "Here we've use the count() method to tell us how many of our employees are on a salary of 55000. As mentioned above there are other Python objects which have methods associated with them. Such as floats, integers, booleans and strings are all python objects which have specific methods associated with them. Lets look at some string methods."
   ]
  },
  {
   "cell_type": "code",
   "execution_count": 16,
   "metadata": {},
   "outputs": [],
   "source": [
    "# New variable: lead_developer\n",
    "lead_developer = \"tony\""
   ]
  },
  {
   "cell_type": "code",
   "execution_count": 17,
   "metadata": {},
   "outputs": [
    {
     "data": {
      "text/plain": [
       "'Tony'"
      ]
     },
     "execution_count": 17,
     "metadata": {},
     "output_type": "execute_result"
    }
   ],
   "source": [
    "# Apply the method .capitalize()\n",
    "lead_developer.capitalize()"
   ]
  },
  {
   "cell_type": "markdown",
   "metadata": {},
   "source": [
    "This method returns a string where the first letter is capitalized. We can also replace parts of a string with other parts. Lets call the method **replace()** with two inputs, \"y\" and \"i\"."
   ]
  },
  {
   "cell_type": "code",
   "execution_count": 18,
   "metadata": {},
   "outputs": [
    {
     "data": {
      "text/plain": [
       "'toni'"
      ]
     },
     "execution_count": 18,
     "metadata": {},
     "output_type": "execute_result"
    }
   ],
   "source": [
    "# Call lead_developer with replace() method\n",
    "lead_developer.replace(\"y\", \"i\")"
   ]
  },
  {
   "cell_type": "markdown",
   "metadata": {},
   "source": [
    "As you can see the character \"y\" has been replaced with \"i\". Let's examine other string methods."
   ]
  },
  {
   "cell_type": "code",
   "execution_count": 19,
   "metadata": {},
   "outputs": [
    {
     "data": {
      "text/plain": [
       "'TONY'"
      ]
     },
     "execution_count": 19,
     "metadata": {},
     "output_type": "execute_result"
    }
   ],
   "source": [
    "# Call lead_developer with .upper(method)\n",
    "lead_developer.upper()"
   ]
  },
  {
   "cell_type": "code",
   "execution_count": 20,
   "metadata": {},
   "outputs": [
    {
     "data": {
      "text/plain": [
       "1"
      ]
     },
     "execution_count": 20,
     "metadata": {},
     "output_type": "execute_result"
    }
   ],
   "source": [
    "# Use .count() to count how many time a character is used in the variable lead_developer\n",
    "lead_developer.count(\"t\")"
   ]
  },
  {
   "cell_type": "markdown",
   "metadata": {},
   "source": [
    "At this points it's worth reminding ourselves that not all methods are applicable to all Python types. However where methods can be applied to more than one data type such as the method index() which can be applied to strings and lists the method behaves differently.\n",
    "\n",
    "Before we finish our discussion of Python's functions and methods let's look at one more method, the append method. We've just hired a new genius level developer who's salary is 70000. How do we add this new salary to our developers list?"
   ]
  },
  {
   "cell_type": "code",
   "execution_count": 21,
   "metadata": {},
   "outputs": [
    {
     "data": {
      "text/plain": [
       "[30000, 35000, 40000, 45000, 50000, 55000, 70000]"
      ]
     },
     "execution_count": 21,
     "metadata": {},
     "output_type": "execute_result"
    }
   ],
   "source": [
    "# Create a list of developers salaries\n",
    "developers = [30000, 35000, 40000, 45000, 50000, 55000]\n",
    "\n",
    "# Apply .append() method to developers list with one argument\n",
    "developers.append(70000)\n",
    "\n",
    "# Output developers\n",
    "developers\n"
   ]
  },
  {
   "cell_type": "markdown",
   "metadata": {},
   "source": [
    "Our developers list has now been extended with the integer 70000."
   ]
  },
  {
   "cell_type": "markdown",
   "metadata": {},
   "source": [
    "## Packages\n",
    "In the last section we seen several examples of Python's functions and methods and how powerful they can be. As well as time saving. Python's functions and methods allows us to leverage not only other people's code but the code of built-in functions as well. \n",
    "\n",
    "The idea of using code that is not our own brings us nicely to the topic of packages. In Python, packages are ready to use scripts or programs. Unlike functions or methods they are complete programs which we can plug in to our code at the right time to produce a specific output. Each script is a module which contains functions, methods and types which as just mentioned are aimed at solving particular problems.  \n",
    "\n",
    "There are thousands of packages available to help you do all sorts of amazing things with Python. Shortly we'll be using the matplotlib package which helps when creating visualizations of our data.\n",
    "\n",
    "Not all packages are available in Python by default. We need to install and enable some. To use any package in your programs you will first need to install it on your computer and then tell your program to use that specific package.\n",
    "\n",
    "To install a package we need to use PIP. PIP is a package maintenance system for Python. Go to https://pip.pypa.io/en/stable/ for more information on installing PIP for your particular operating system. It's worth pointing out here that if you download Python directly from the Python website and are using versions Python 2 >=2.7.9 or Python 3 >=3.4 then you already have PIP installed. If you installed Python as part of the Anaconda data science platform then you may need to install PIP. \n",
    "\n",
    "Go to https://pip.pypa.io/en/stable/installing/ and download get-pip.py. Open up your terminal or command prompt and enter python3 (if you are using Python3) get-pip.py. The exact line is _python3 get-pip.py_. When PIP is installed you can use it to install any Python package that you need. For example by typing the line _pip3 install numpy_ into your terminal or command prompt you will install the NumPy package. When typing \"python\" at the command line we use \"python3\" and \"pip3\" to tell our system that we are working with version 3 of Python.\n",
    "\n",
    "With the necessary package successfully installed we can start to use it in our Python programs. To do this we need to import the package or one of its modules into our programs using the import statement, **import numpy**. When working with large datasets NumPy is a package that we will be using a lot. One common function of NumPy is **array**. When working with NumPy we cannot simply say \"array([1,2,3]), we need to tell Python that we want to make use of the array function from NumPy. Take a look."
   ]
  },
  {
   "cell_type": "code",
   "execution_count": 22,
   "metadata": {},
   "outputs": [],
   "source": [
    "# Import the NumPy package\n",
    "import numpy"
   ]
  },
  {
   "cell_type": "code",
   "execution_count": 23,
   "metadata": {},
   "outputs": [
    {
     "ename": "NameError",
     "evalue": "name 'array' is not defined",
     "output_type": "error",
     "traceback": [
      "\u001b[0;31m---------------------------------------------------------------------------\u001b[0m",
      "\u001b[0;31mNameError\u001b[0m                                 Traceback (most recent call last)",
      "\u001b[0;32m<ipython-input-23-54f60b0ecd6e>\u001b[0m in \u001b[0;36m<module>\u001b[0;34m\u001b[0m\n\u001b[1;32m      1\u001b[0m \u001b[0;31m# This approach will not work\u001b[0m\u001b[0;34m\u001b[0m\u001b[0;34m\u001b[0m\u001b[0;34m\u001b[0m\u001b[0m\n\u001b[0;32m----> 2\u001b[0;31m \u001b[0mnew_array\u001b[0m \u001b[0;34m=\u001b[0m \u001b[0marray\u001b[0m\u001b[0;34m(\u001b[0m\u001b[0;34m[\u001b[0m\u001b[0;36m1\u001b[0m\u001b[0;34m,\u001b[0m\u001b[0;36m2\u001b[0m\u001b[0;34m,\u001b[0m\u001b[0;36m3\u001b[0m\u001b[0;34m]\u001b[0m\u001b[0;34m)\u001b[0m\u001b[0;34m\u001b[0m\u001b[0;34m\u001b[0m\u001b[0m\n\u001b[0m",
      "\u001b[0;31mNameError\u001b[0m: name 'array' is not defined"
     ]
    }
   ],
   "source": [
    "# This approach will not work\n",
    "new_array = array([1,2,3])"
   ]
  },
  {
   "cell_type": "code",
   "execution_count": 24,
   "metadata": {},
   "outputs": [
    {
     "data": {
      "text/plain": [
       "array([1, 2, 3])"
      ]
     },
     "execution_count": 24,
     "metadata": {},
     "output_type": "execute_result"
    }
   ],
   "source": [
    "new_array = numpy.array([1,2,3])\n",
    "new_array"
   ]
  },
  {
   "cell_type": "markdown",
   "metadata": {},
   "source": [
    "Having to write \"numpy\" every time is quickly going to become tedious particularly as our programs become larger and more complex. Instead what we can do is import a package and then refer to it with a different, shorter name. Take a look:"
   ]
  },
  {
   "cell_type": "code",
   "execution_count": 25,
   "metadata": {},
   "outputs": [
    {
     "data": {
      "text/plain": [
       "array([1, 2, 3])"
      ]
     },
     "execution_count": 25,
     "metadata": {},
     "output_type": "execute_result"
    }
   ],
   "source": [
    "import numpy as np\n",
    "\n",
    "array2 = np.array([1,2,3,])\n",
    "\n",
    "array2"
   ]
  },
  {
   "cell_type": "markdown",
   "metadata": {},
   "source": [
    "We've just extended our import statement with \"as np\". You will find this is a very common practice in Python. \n",
    "\n",
    "There will be times when we need only one specific function from a package. Suppose we only ever want to use array from NumPy. Instead of writing \"import numpy\" we can write \"from numpy import array\""
   ]
  },
  {
   "cell_type": "code",
   "execution_count": 26,
   "metadata": {},
   "outputs": [
    {
     "data": {
      "text/plain": [
       "array([1, 2, 3])"
      ]
     },
     "execution_count": 26,
     "metadata": {},
     "output_type": "execute_result"
    }
   ],
   "source": [
    "from numpy import array\n",
    "\n",
    "array3 = array([1,2,3])\n",
    "\n",
    "array3"
   ]
  },
  {
   "cell_type": "markdown",
   "metadata": {},
   "source": [
    "Have you noticed the different way we called the array function? Instead of using numpy.array or np.array we simply wrote \"array([1,2,3])\". This might seem more convenient right now when our program is three lines long but imagine 1000 or 2000 lines of code and your array is at line 1456. Will you know then that your array is referring to a numpy array? What if you share your program with a colleague? How will she know that this array is a NumPy array? Every time you or your colleague need to check you will have to scroll to the top of your program to see how you imported NumPy. Not very efficient. You will quickly loose context as your programs get longer and for this reason using _\"import numpy as np\"_ is the preferred option. "
   ]
  }
 ],
 "metadata": {
  "kernelspec": {
   "display_name": "Python 3",
   "language": "python",
   "name": "python3"
  },
  "language_info": {
   "codemirror_mode": {
    "name": "ipython",
    "version": 3
   },
   "file_extension": ".py",
   "mimetype": "text/x-python",
   "name": "python",
   "nbconvert_exporter": "python",
   "pygments_lexer": "ipython3",
   "version": "3.6.7"
  },
  "toc": {
   "base_numbering": 1,
   "nav_menu": {},
   "number_sections": false,
   "sideBar": true,
   "skip_h1_title": true,
   "title_cell": "Table of Contents",
   "title_sidebar": "Contents",
   "toc_cell": true,
   "toc_position": {},
   "toc_section_display": true,
   "toc_window_display": false
  }
 },
 "nbformat": 4,
 "nbformat_minor": 2
}
