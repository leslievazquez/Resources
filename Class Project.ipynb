{
 "cells": [
  {
   "cell_type": "markdown",
   "metadata": {},
   "source": [
    "# Learn Data Science with Python - Part 1: Introduction to Python\n",
    "## Class Project"
   ]
  },
  {
   "cell_type": "code",
   "execution_count": 1,
   "metadata": {},
   "outputs": [
    {
     "name": "stdout",
     "output_type": "stream",
     "text": [
      "\n",
      ">>>>>>>>>>>>>>>>>>>> Random Number Generator <<<<<<<<<<<<<<\n",
      "\n",
      "Enter the first number: 87\n",
      "Enter the last number: 399\n",
      "\n",
      "The random number between 87 and 399 is:\n",
      "\n",
      "146\n"
     ]
    }
   ],
   "source": [
    "# Import random package\n",
    "from random import *\n",
    "\n",
    "# Create a program introduction line\n",
    "print(\"\\n>>>>>>>>>>>>>>>>>>>> Random Number Generator <<<<<<<<<<<<<<\\n\")\n",
    "\n",
    "# Create two variables to hold the user inpurt\n",
    "number1 = int(input(\"Enter the first number: \"))\n",
    "number2 = int(input(\"Enter the last number: \"))\n",
    "\n",
    "# Use randint to generate a random number based on user input and \n",
    "# assign to x\n",
    "x = randint(number1, number2)\n",
    "\n",
    "# Output to the user the result of randint\n",
    "print(\"\\nThe random number between\", number1, \"and\", number2, \"is:\\n\")\n",
    "print(x)"
   ]
  },
  {
   "cell_type": "code",
   "execution_count": null,
   "metadata": {},
   "outputs": [],
   "source": []
  }
 ],
 "metadata": {
  "kernelspec": {
   "display_name": "Python 3",
   "language": "python",
   "name": "python3"
  },
  "language_info": {
   "codemirror_mode": {
    "name": "ipython",
    "version": 3
   },
   "file_extension": ".py",
   "mimetype": "text/x-python",
   "name": "python",
   "nbconvert_exporter": "python",
   "pygments_lexer": "ipython3",
   "version": "3.6.7"
  }
 },
 "nbformat": 4,
 "nbformat_minor": 2
}
