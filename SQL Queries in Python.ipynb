{
 "cells": [
  {
   "cell_type": "markdown",
   "metadata": {},
   "source": [
    "# SQL Queries in Python\n",
    "\n",
    "##### Towards Data Science\n",
    "##### Author: Shubi Asthana (12/12/2020)"
   ]
  },
  {
   "cell_type": "markdown",
   "metadata": {},
   "source": [
    "## Step 1 - Importing SQL Alchemy and Pandas"
   ]
  },
  {
   "cell_type": "code",
   "execution_count": null,
   "metadata": {},
   "outputs": [],
   "source": [
    "!pip install sqlalchemy\n",
    "from sqlalchemy import create_engine"
   ]
  },
  {
   "cell_type": "code",
   "execution_count": null,
   "metadata": {},
   "outputs": [],
   "source": [
    "import pandas as pd"
   ]
  },
  {
   "cell_type": "markdown",
   "metadata": {},
   "source": [
    "## Step 2 - Creating a SQL engine"
   ]
  },
  {
   "cell_type": "code",
   "execution_count": null,
   "metadata": {},
   "outputs": [],
   "source": [
    "# We create a SQL engine using the command which creates a new class 'engine'\n",
    "\n",
    "engine = create_engine(*args)\n",
    "\n",
    "# The argument is a string which indicates database dialect and connection arguments in the form of a URL. \n",
    "# It is typically what you would write in the SQL engine to connect to a DB\n",
    "\n",
    "dialect[+driver]://+ dsn_uid + ':' + dsn_pwd + '@'+dsn_hostname+':'+dsn_port+'/' + dsn_database\n",
    "    \n",
    "# Here dialect is the DB name such as mysql, oracle, and postgresql, etc. \n",
    "# Each DB has a corresponding DBAPI wrapper. All dialects require that an appropriate DBAPI driver is installed. \n",
    "\n",
    "# create_engine() builds a secure connection with DB so you can read and write into it. "
   ]
  },
  {
   "cell_type": "markdown",
   "metadata": {},
   "source": [
    "## Step 3 - Running queries using SQL statements"
   ]
  },
  {
   "cell_type": "code",
   "execution_count": null,
   "metadata": {},
   "outputs": [],
   "source": [
    "# Steps one can take to submit data queries using sqlaclhemy \n",
    "\n",
    "# To submit data queries, the following steps are followed:\n",
    "\n",
    "# A. Wrap your SQL statements in a container\n",
    "# B. Send it to the DB\n",
    "# C. Receive the response back\n",
    "# D. Put the response in a pandas DF\n",
    "\n",
    "# Like any SQL query, the two primary clauses that must be present in every query here are SELECT, and FROM. \n",
    "\n",
    "# .SELECT allows you to select a subset of columns (or all of them) from a table\n",
    "# .FROM specifies which table the column(s) are being pulled from\n",
    "\n",
    "# For example, to return all columns from a 'table1', you can do the following:\n",
    "\n",
    "sql = \"SELECT * FROM table1 \"\n",
    "df = pd.read_sql_query(sql, engine)\n",
    "df.head()\n",
    "\n",
    "# If you're dealing with multiple tables, you may need to specify which column from which table because the columns \n",
    "# of interest may come from different tables in the DB\n",
    "\n",
    "SELECT table1.column1, table1.column2 FROM table1\n",
    "\n",
    "# If you want certain rows from a column, you can use this query\n",
    "\n",
    "SELECT DISTINCT column1 FROM table1"
   ]
  },
  {
   "cell_type": "markdown",
   "metadata": {},
   "source": [
    "## Step 4 - Writing DB"
   ]
  },
  {
   "cell_type": "code",
   "execution_count": null,
   "metadata": {},
   "outputs": [],
   "source": [
    "# Writing to DB in python using SQLAlchemy is similar to what you would do in a SQL environment.\n",
    "# Once you create_engine, and receive data, you can use to_sql to write to DB\n",
    "# *Data SHOULD be placed inside a DF\n",
    "\n",
    "from sqlalchemy import create_engine\n",
    "engine = create_engine(*args)\n",
    "\n",
    "# Now create a table with some rows\n",
    "df = pd.DataFrame({'name' : ['T1', T2', T3']})\n",
    "\n",
    "print(df)\n",
    "\n",
    ">>> name \n",
    "\n",
    "0 T1\n",
    "1 T2\n",
    "2 T3\n",
    "\n",
    "# Using to_sql we can write to the DB\n",
    "\n",
    "df.to_sql(tableT, con=engine, if_exists='append')\n",
    "\n",
    "# Check if data was written in the table correctly\n",
    "\n",
    "engine.execute(\"SELECT * FROM tableT \").fetchall()\n",
    "\n",
    "[(0, 'T1'), (1, 'T2'), (2, 'T3')]\n",
    "\n",
    "# One can append more rows to the table or replace the rows with new DF\n",
    "\n",
    "df2 = pd.DataFrame({'name': ['T6', 'T7']})\n",
    "\n",
    "df2.to_sql(' tableT ', con=engine, if_exists='replace')"
   ]
  },
  {
   "cell_type": "markdown",
   "metadata": {},
   "source": [
    "## Step 5 Creating a Table in DB "
   ]
  },
  {
   "cell_type": "code",
   "execution_count": null,
   "metadata": {},
   "outputs": [],
   "source": [
    "# To create a table in DB from python, we make use of Metadata. Metadata is a collection of Table objects and their associated\n",
    "# schema constructs.\n",
    "\n",
    "from sqlalchemy import MetaData \n",
    "meta = Metadata()\n",
    "\n",
    "# Next - Define the table using the Table construct, which resembles regular SQL CREATE statement. \n",
    "# For example: \n",
    "\n",
    "from sqlalchemy import create_engine, MetaData, Table, Column, Integer, String\n",
    "\n",
    "engine = create_engine(*args)\n",
    "meta = MetaData()\n",
    "students = Table('students', meta, Column('id', Integer, primary_key = True), Column('name', String), Column('lastname', String))\n",
    "meta.create_all(engine)\n",
    "\n",
    "# Create_all() function uses the engine object to create all the defined table objects and stores the info in metadata. "
   ]
  }
 ],
 "metadata": {
  "kernelspec": {
   "display_name": "Python 3",
   "language": "python",
   "name": "python3"
  },
  "language_info": {
   "codemirror_mode": {
    "name": "ipython",
    "version": 3
   },
   "file_extension": ".py",
   "mimetype": "text/x-python",
   "name": "python",
   "nbconvert_exporter": "python",
   "pygments_lexer": "ipython3",
   "version": "3.8.5"
  }
 },
 "nbformat": 4,
 "nbformat_minor": 4
}
